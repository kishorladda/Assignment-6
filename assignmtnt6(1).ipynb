{
 "cells": [
  {
   "cell_type": "markdown",
   "id": "2c6bf58f-948e-4ee8-a42d-76e0a24102e6",
   "metadata": {},
   "source": [
    "Q1. Explain Class and Object with respect to Object-Oriented Programming. Give a suitable example."
   ]
  },
  {
   "cell_type": "markdown",
   "id": "f157beb3-5081-499d-a367-055ad45f8f6b",
   "metadata": {},
   "source": [
    "ans : class is blueprint of real world entity however its not a real entity but it represents or \n",
    "      classifies a real world entity on the other hand objects are the parts of class which represents\n",
    "      real entities \n",
    "        for example we say shoes is a class and in that class formal shoes or casual shoes or \n",
    "        say sports shoes are objects"
   ]
  },
  {
   "cell_type": "code",
   "execution_count": 4,
   "id": "0790bd26-4c7a-4743-8763-8306e0d50c23",
   "metadata": {},
   "outputs": [],
   "source": [
    "class shoes() :\n",
    "    def sports_shoes(self):\n",
    "        print('you should wear clothes for sports')\n",
    "    def casual_shoes(self):\n",
    "        print('you can wear normal clothes')\n",
    "    def formal_shoes(self):\n",
    "        print('you should wear blazer')"
   ]
  },
  {
   "cell_type": "code",
   "execution_count": 5,
   "id": "7bb5fa61-8a4d-440c-8a62-ee29e51af29c",
   "metadata": {},
   "outputs": [],
   "source": [
    "rohan=shoes()"
   ]
  },
  {
   "cell_type": "code",
   "execution_count": 6,
   "id": "96b9c50b-4f04-4ac9-bcec-92d66869c3fc",
   "metadata": {},
   "outputs": [
    {
     "name": "stdout",
     "output_type": "stream",
     "text": [
      "you should wear clothes for sports\n"
     ]
    }
   ],
   "source": [
    "rohan.sports_shoes()"
   ]
  },
  {
   "cell_type": "code",
   "execution_count": 7,
   "id": "6539def9-89dd-487d-849d-9a61613ff40c",
   "metadata": {},
   "outputs": [
    {
     "name": "stdout",
     "output_type": "stream",
     "text": [
      "you should wear blazer\n"
     ]
    }
   ],
   "source": [
    "mohan=shoes()\n",
    "mohan.formal_shoes()"
   ]
  },
  {
   "cell_type": "code",
   "execution_count": 8,
   "id": "ab147e3a-0d3b-49be-bf4e-68e82a18856d",
   "metadata": {},
   "outputs": [
    {
     "name": "stdout",
     "output_type": "stream",
     "text": [
      "you can wear normal clothes\n"
     ]
    }
   ],
   "source": [
    "ram=shoes()\n",
    "ram.casual_shoes()"
   ]
  },
  {
   "cell_type": "markdown",
   "id": "7711a7ff-51ae-4c9f-9037-ae4fdfbdaa6c",
   "metadata": {},
   "source": [
    "Q2. Name the four pillars of OOPs."
   ]
  },
  {
   "cell_type": "markdown",
   "id": "a1b08589-99eb-4eb4-9292-25a4c8692e2c",
   "metadata": {},
   "source": [
    "ans : \n",
    "    1 : encpsulation:it means hiding the data from user\n",
    "    2 : inheritance : it means one objects takes the property of another objetc\n",
    "    3 : abstraction : it means taking only usefull data and hiding the process\n",
    "    4 : polymorphism: it means one objects can behave in different ways at the same time\n",
    "    "
   ]
  },
  {
   "cell_type": "markdown",
   "id": "6078fdad-f36f-497d-b357-339c2f5cc3a4",
   "metadata": {},
   "source": [
    "Q3. Explain why the __init__() function is used. Give a suitable example."
   ]
  },
  {
   "cell_type": "markdown",
   "id": "e352c2fe-2358-4e13-ad26-f31baccb8f8d",
   "metadata": {},
   "source": [
    "ans : when the property of objects are different then user needs to add the \n",
    "property of objects and thats where our __init__ function helps to pass the data in class"
   ]
  },
  {
   "cell_type": "code",
   "execution_count": 27,
   "id": "1540d338-767f-42d0-97d1-dcd4c4932894",
   "metadata": {},
   "outputs": [],
   "source": [
    "class iit:\n",
    "    \n",
    "    def __init__(self,physics,chemistry,maths):\n",
    "        self.physics = physics\n",
    "        self.chemistry = chemistry\n",
    "        self.maths = maths\n",
    "    def marks(self):\n",
    "        return  self.physics, self.chemistry, self.maths"
   ]
  },
  {
   "cell_type": "code",
   "execution_count": 28,
   "id": "4d79fd0a-3398-4a59-96a2-ec3ede6f8f67",
   "metadata": {},
   "outputs": [],
   "source": [
    "rohan = iit(100,95,90)"
   ]
  },
  {
   "cell_type": "code",
   "execution_count": 29,
   "id": "a6206716-3019-4066-83d2-432f6f76087e",
   "metadata": {},
   "outputs": [
    {
     "data": {
      "text/plain": [
       "(100, 95, 90)"
      ]
     },
     "execution_count": 29,
     "metadata": {},
     "output_type": "execute_result"
    }
   ],
   "source": [
    "rohan.marks()"
   ]
  },
  {
   "cell_type": "markdown",
   "id": "a19ba471-b449-4790-b961-50e3f1acdeb9",
   "metadata": {},
   "source": [
    "Q4. Why self is used in OOPs?"
   ]
  },
  {
   "cell_type": "markdown",
   "id": "9de07c9e-8e32-4694-a459-c8cd57f2c2de",
   "metadata": {},
   "source": [
    "ans : self is used in oops to adress some objects to which it belong however there \n",
    "      no compulsion self word we can use any other word"
   ]
  },
  {
   "cell_type": "markdown",
   "id": "b5ffb5f5-83cc-4b39-aa8e-d7314a768540",
   "metadata": {},
   "source": [
    "Q5. What is inheritance? Give an example for each type of inheritance."
   ]
  },
  {
   "cell_type": "markdown",
   "id": "75d50795-e137-4e1b-9bac-fd7a46a140dd",
   "metadata": {},
   "source": [
    "ans : \n",
    "    1 multiple inheritance : one class created from two or more classes\n",
    "    eg: son will be the derived class and mother and father will be the main class\n",
    "    \n",
    "    2 hierachial inheritance : when one or more classes created from single class\n",
    "    eg : humans will be the parent class and male,female,transgender will be the derived class\n",
    "    \n",
    "    3 multilevel inheritance : one derived class created from base class and second class\n",
    "      created from derived class\n",
    "    eg : male will be main class father will be intermediate class and son will be second class    \n",
    "        \n",
    "    4 single inheritance : one class created from one other class\n",
    "    eg : subjects will be main class and physics will be derived class\n",
    "    \n",
    "    5 hybrid inheritance : when there are more than one type of inheritances then it is called \n",
    "      hybrid inheritance .\n",
    "    eg : let us take one large example of above four mentioned classes so human being will large\n",
    "         class in that male female will be derived class in that also male devides into \n",
    "         father and son also female devides into sister and mother further we can add more classes\n",
    "    "
   ]
  }
 ],
 "metadata": {
  "kernelspec": {
   "display_name": "Python 3 (ipykernel)",
   "language": "python",
   "name": "python3"
  },
  "language_info": {
   "codemirror_mode": {
    "name": "ipython",
    "version": 3
   },
   "file_extension": ".py",
   "mimetype": "text/x-python",
   "name": "python",
   "nbconvert_exporter": "python",
   "pygments_lexer": "ipython3",
   "version": "3.10.8"
  }
 },
 "nbformat": 4,
 "nbformat_minor": 5
}
